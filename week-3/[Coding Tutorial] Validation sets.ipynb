{
 "cells": [
  {
   "cell_type": "markdown",
   "id": "48d5c341",
   "metadata": {},
   "source": [
    "## Validation sets"
   ]
  },
  {
   "cell_type": "markdown",
   "id": "3c796637",
   "metadata": {},
   "source": [
    "#### Load data"
   ]
  },
  {
   "cell_type": "code",
   "execution_count": 1,
   "id": "0e1d3ea9",
   "metadata": {},
   "outputs": [
    {
     "name": "stdout",
     "output_type": "stream",
     "text": [
      "Collecting scikit-learn\n",
      "  Obtaining dependency information for scikit-learn from https://files.pythonhosted.org/packages/bf/15/d1b649fc7685d11b806b4546a5438191fb2ad761de70da95ff676189dcec/scikit_learn-1.3.0-cp38-cp38-manylinux_2_17_x86_64.manylinux2014_x86_64.whl.metadata\n",
      "  Downloading scikit_learn-1.3.0-cp38-cp38-manylinux_2_17_x86_64.manylinux2014_x86_64.whl.metadata (11 kB)\n",
      "Requirement already satisfied: numpy>=1.17.3 in /usr/local/lib/python3.8/dist-packages (from scikit-learn) (1.24.3)\n",
      "Collecting scipy>=1.5.0 (from scikit-learn)\n",
      "  Downloading scipy-1.10.1-cp38-cp38-manylinux_2_17_x86_64.manylinux2014_x86_64.whl (34.5 MB)\n",
      "\u001b[2K     \u001b[90m━━━━━━━━━━━━━━━━━━━━━━━━━━━━━━━━━━━━━━━━\u001b[0m \u001b[32m34.5/34.5 MB\u001b[0m \u001b[31m10.2 MB/s\u001b[0m eta \u001b[36m0:00:00\u001b[0m00:01\u001b[0m00:01\u001b[0m\n",
      "\u001b[?25hCollecting joblib>=1.1.1 (from scikit-learn)\n",
      "  Obtaining dependency information for joblib>=1.1.1 from https://files.pythonhosted.org/packages/28/08/9dcdaa5aac4634e4c23af26d92121f7ce445c630efa0d3037881ae2407fb/joblib-1.3.1-py3-none-any.whl.metadata\n",
      "  Downloading joblib-1.3.1-py3-none-any.whl.metadata (5.4 kB)\n",
      "Collecting threadpoolctl>=2.0.0 (from scikit-learn)\n",
      "  Obtaining dependency information for threadpoolctl>=2.0.0 from https://files.pythonhosted.org/packages/81/12/fd4dea011af9d69e1cad05c75f3f7202cdcbeac9b712eea58ca779a72865/threadpoolctl-3.2.0-py3-none-any.whl.metadata\n",
      "  Downloading threadpoolctl-3.2.0-py3-none-any.whl.metadata (10.0 kB)\n",
      "Downloading scikit_learn-1.3.0-cp38-cp38-manylinux_2_17_x86_64.manylinux2014_x86_64.whl (11.1 MB)\n",
      "\u001b[2K   \u001b[90m━━━━━━━━━━━━━━━━━━━━━━━━━━━━━━━━━━━━━━━━\u001b[0m \u001b[32m11.1/11.1 MB\u001b[0m \u001b[31m13.2 MB/s\u001b[0m eta \u001b[36m0:00:00\u001b[0m00:01\u001b[0m00:01\u001b[0m\n",
      "\u001b[?25hDownloading joblib-1.3.1-py3-none-any.whl (301 kB)\n",
      "\u001b[2K   \u001b[90m━━━━━━━━━━━━━━━━━━━━━━━━━━━━━━━━━━━━━━━━\u001b[0m \u001b[32m302.0/302.0 kB\u001b[0m \u001b[31m12.5 MB/s\u001b[0m eta \u001b[36m0:00:00\u001b[0m\n",
      "\u001b[?25hDownloading threadpoolctl-3.2.0-py3-none-any.whl (15 kB)\n",
      "Installing collected packages: threadpoolctl, scipy, joblib, scikit-learn\n",
      "Successfully installed joblib-1.3.1 scikit-learn-1.3.0 scipy-1.10.1 threadpoolctl-3.2.0\n",
      "\u001b[33mWARNING: Running pip as the 'root' user can result in broken permissions and conflicting behaviour with the system package manager. It is recommended to use a virtual environment instead: https://pip.pypa.io/warnings/venv\u001b[0m\u001b[33m\n",
      "\u001b[0m"
     ]
    }
   ],
   "source": [
    "!pip install -U scikit-learn"
   ]
  },
  {
   "cell_type": "code",
   "execution_count": 1,
   "id": "25a1373b",
   "metadata": {},
   "outputs": [
    {
     "name": "stdout",
     "output_type": "stream",
     "text": [
      ".. _diabetes_dataset:\n",
      "\n",
      "Diabetes dataset\n",
      "----------------\n",
      "\n",
      "Ten baseline variables, age, sex, body mass index, average blood\n",
      "pressure, and six blood serum measurements were obtained for each of n =\n",
      "442 diabetes patients, as well as the response of interest, a\n",
      "quantitative measure of disease progression one year after baseline.\n",
      "\n",
      "**Data Set Characteristics:**\n",
      "\n",
      "  :Number of Instances: 442\n",
      "\n",
      "  :Number of Attributes: First 10 columns are numeric predictive values\n",
      "\n",
      "  :Target: Column 11 is a quantitative measure of disease progression one year after baseline\n",
      "\n",
      "  :Attribute Information:\n",
      "      - age     age in years\n",
      "      - sex\n",
      "      - bmi     body mass index\n",
      "      - bp      average blood pressure\n",
      "      - s1      tc, total serum cholesterol\n",
      "      - s2      ldl, low-density lipoproteins\n",
      "      - s3      hdl, high-density lipoproteins\n",
      "      - s4      tch, total cholesterol / HDL\n",
      "      - s5      ltg, possibly log of serum triglycerides level\n",
      "      - s6      glu, blood sugar level\n",
      "\n",
      "Note: Each of these 10 feature variables have been mean centered and scaled by the standard deviation times the square root of `n_samples` (i.e. the sum of squares of each column totals 1).\n",
      "\n",
      "Source URL:\n",
      "https://www4.stat.ncsu.edu/~boos/var.select/diabetes.html\n",
      "\n",
      "For more information see:\n",
      "Bradley Efron, Trevor Hastie, Iain Johnstone and Robert Tibshirani (2004) \"Least Angle Regression,\" Annals of Statistics (with discussion), 407-499.\n",
      "(https://web.stanford.edu/~hastie/Papers/LARS/LeastAngle_2002.pdf)\n",
      "\n"
     ]
    }
   ],
   "source": [
    "# Load the diabetes dataset\n",
    "\n",
    "from sklearn.datasets import load_diabetes\n",
    "\n",
    "diabetes_dataset = load_diabetes()\n",
    "print(diabetes_dataset.DESCR)"
   ]
  },
  {
   "cell_type": "code",
   "execution_count": 2,
   "id": "2efde32e",
   "metadata": {},
   "outputs": [],
   "source": [
    "# Save the input and target variables\n",
    "\n",
    "data = diabetes_dataset.data\n",
    "target = diabetes_dataset.target"
   ]
  },
  {
   "cell_type": "code",
   "execution_count": 3,
   "id": "47d77bc7",
   "metadata": {},
   "outputs": [],
   "source": [
    "# Normalise the target data (this will make clearer training curves)\n",
    "\n",
    "target = (target - target.mean()) / target.std()"
   ]
  },
  {
   "cell_type": "code",
   "execution_count": 4,
   "id": "03c3e553",
   "metadata": {},
   "outputs": [
    {
     "name": "stdout",
     "output_type": "stream",
     "text": [
      "(397, 10)\n",
      "(45, 10)\n",
      "(397,)\n",
      "(45,)\n"
     ]
    }
   ],
   "source": [
    "# Split the data into train and test sets\n",
    "\n",
    "from sklearn.model_selection import train_test_split\n",
    "\n",
    "train_data, test_data, train_target, test_target = train_test_split(data, target, test_size=0.1)\n",
    "\n",
    "print(train_data.shape)\n",
    "print(test_data.shape)\n",
    "print(train_target.shape)\n",
    "print(test_target.shape)"
   ]
  },
  {
   "cell_type": "markdown",
   "id": "33ba512b",
   "metadata": {},
   "source": [
    "#### Train a feedforward neural network model"
   ]
  },
  {
   "cell_type": "code",
   "execution_count": 5,
   "id": "97c66fac",
   "metadata": {},
   "outputs": [
    {
     "name": "stderr",
     "output_type": "stream",
     "text": [
      "2023-08-06 00:57:53.613580: I tensorflow/compiler/xla/stream_executor/cuda/cuda_gpu_executor.cc:981] could not open file to read NUMA node: /sys/bus/pci/devices/0000:01:00.0/numa_node\n",
      "Your kernel may have been built without NUMA support.\n",
      "2023-08-06 00:57:53.649952: I tensorflow/compiler/xla/stream_executor/cuda/cuda_gpu_executor.cc:981] could not open file to read NUMA node: /sys/bus/pci/devices/0000:01:00.0/numa_node\n",
      "Your kernel may have been built without NUMA support.\n",
      "2023-08-06 00:57:53.650464: I tensorflow/compiler/xla/stream_executor/cuda/cuda_gpu_executor.cc:981] could not open file to read NUMA node: /sys/bus/pci/devices/0000:01:00.0/numa_node\n",
      "Your kernel may have been built without NUMA support.\n",
      "2023-08-06 00:57:53.657320: I tensorflow/compiler/xla/stream_executor/cuda/cuda_gpu_executor.cc:981] could not open file to read NUMA node: /sys/bus/pci/devices/0000:01:00.0/numa_node\n",
      "Your kernel may have been built without NUMA support.\n",
      "2023-08-06 00:57:53.658342: I tensorflow/compiler/xla/stream_executor/cuda/cuda_gpu_executor.cc:981] could not open file to read NUMA node: /sys/bus/pci/devices/0000:01:00.0/numa_node\n",
      "Your kernel may have been built without NUMA support.\n",
      "2023-08-06 00:57:53.659302: I tensorflow/compiler/xla/stream_executor/cuda/cuda_gpu_executor.cc:981] could not open file to read NUMA node: /sys/bus/pci/devices/0000:01:00.0/numa_node\n",
      "Your kernel may have been built without NUMA support.\n",
      "2023-08-06 00:57:55.018100: I tensorflow/compiler/xla/stream_executor/cuda/cuda_gpu_executor.cc:981] could not open file to read NUMA node: /sys/bus/pci/devices/0000:01:00.0/numa_node\n",
      "Your kernel may have been built without NUMA support.\n",
      "2023-08-06 00:57:55.020697: I tensorflow/compiler/xla/stream_executor/cuda/cuda_gpu_executor.cc:981] could not open file to read NUMA node: /sys/bus/pci/devices/0000:01:00.0/numa_node\n",
      "Your kernel may have been built without NUMA support.\n",
      "2023-08-06 00:57:55.020766: I tensorflow/core/common_runtime/gpu/gpu_device.cc:1726] Could not identify NUMA node of platform GPU id 0, defaulting to 0.  Your kernel may not have been built with NUMA support.\n",
      "2023-08-06 00:57:55.021970: I tensorflow/compiler/xla/stream_executor/cuda/cuda_gpu_executor.cc:981] could not open file to read NUMA node: /sys/bus/pci/devices/0000:01:00.0/numa_node\n",
      "Your kernel may have been built without NUMA support.\n",
      "2023-08-06 00:57:55.022855: I tensorflow/core/common_runtime/gpu/gpu_device.cc:1639] Created device /job:localhost/replica:0/task:0/device:GPU:0 with 5391 MB memory:  -> device: 0, name: NVIDIA GeForce RTX 4060 Laptop GPU, pci bus id: 0000:01:00.0, compute capability: 8.9\n"
     ]
    }
   ],
   "source": [
    "# Build the model\n",
    "\n",
    "from tensorflow.keras.models import Sequential\n",
    "from tensorflow.keras.layers import Dense\n",
    "\n",
    "def get_model():\n",
    "    model = Sequential([\n",
    "        Dense(128, activation=\"relu\", input_shape=(train_data.shape[1],)),\n",
    "        Dense(128, activation=\"relu\"),\n",
    "        Dense(128, activation=\"relu\"),\n",
    "        Dense(128, activation=\"relu\"),\n",
    "        Dense(128, activation=\"relu\"),\n",
    "        Dense(1)\n",
    "    ])\n",
    "    \n",
    "    return model\n",
    "\n",
    "model = get_model()"
   ]
  },
  {
   "cell_type": "code",
   "execution_count": 6,
   "id": "e9ef82a8",
   "metadata": {},
   "outputs": [
    {
     "name": "stdout",
     "output_type": "stream",
     "text": [
      "Model: \"sequential\"\n",
      "_________________________________________________________________\n",
      " Layer (type)                Output Shape              Param #   \n",
      "=================================================================\n",
      " dense (Dense)               (None, 128)               1408      \n",
      "                                                                 \n",
      " dense_1 (Dense)             (None, 128)               16512     \n",
      "                                                                 \n",
      " dense_2 (Dense)             (None, 128)               16512     \n",
      "                                                                 \n",
      " dense_3 (Dense)             (None, 128)               16512     \n",
      "                                                                 \n",
      " dense_4 (Dense)             (None, 128)               16512     \n",
      "                                                                 \n",
      " dense_5 (Dense)             (None, 1)                 129       \n",
      "                                                                 \n",
      "=================================================================\n",
      "Total params: 67585 (264.00 KB)\n",
      "Trainable params: 67585 (264.00 KB)\n",
      "Non-trainable params: 0 (0.00 Byte)\n",
      "_________________________________________________________________\n"
     ]
    }
   ],
   "source": [
    "# Print the model summary\n",
    "\n",
    "model.summary()"
   ]
  },
  {
   "cell_type": "code",
   "execution_count": 7,
   "id": "94d419bd",
   "metadata": {},
   "outputs": [],
   "source": [
    "# Compile the model\n",
    "\n",
    "model.compile(optimizer=\"adam\", loss=\"mse\", metrics=[\"mae\"])"
   ]
  },
  {
   "cell_type": "code",
   "execution_count": 8,
   "id": "43e8255a",
   "metadata": {},
   "outputs": [
    {
     "name": "stdout",
     "output_type": "stream",
     "text": [
      "Epoch 1/100\n"
     ]
    },
    {
     "name": "stderr",
     "output_type": "stream",
     "text": [
      "2023-08-06 01:01:56.991456: I tensorflow/compiler/xla/stream_executor/cuda/cuda_blas.cc:606] TensorFloat-32 will be used for the matrix multiplication. This will only be logged once.\n",
      "2023-08-06 01:01:57.693320: I tensorflow/compiler/xla/service/service.cc:168] XLA service 0x1db78330 initialized for platform CUDA (this does not guarantee that XLA will be used). Devices:\n",
      "2023-08-06 01:01:57.693373: I tensorflow/compiler/xla/service/service.cc:176]   StreamExecutor device (0): NVIDIA GeForce RTX 4060 Laptop GPU, Compute Capability 8.9\n",
      "2023-08-06 01:01:57.719730: I tensorflow/compiler/mlir/tensorflow/utils/dump_mlir_util.cc:255] disabling MLIR crash reproducer, set env var `MLIR_CRASH_REPRODUCER_DIRECTORY` to enable.\n",
      "2023-08-06 01:01:58.049780: I tensorflow/compiler/xla/stream_executor/cuda/cuda_dnn.cc:432] Loaded cuDNN version 8600\n",
      "2023-08-06 01:01:58.267527: I ./tensorflow/compiler/jit/device_compiler.h:186] Compiled cluster using XLA!  This line is logged at most once for the lifetime of the process.\n"
     ]
    },
    {
     "name": "stdout",
     "output_type": "stream",
     "text": [
      "6/6 - 6s - loss: 0.9502 - mae: 0.8338 - val_loss: 1.0312 - val_mae: 0.8531 - 6s/epoch - 931ms/step\n",
      "Epoch 2/100\n",
      "6/6 - 0s - loss: 0.8813 - mae: 0.8041 - val_loss: 0.8989 - val_mae: 0.8087 - 153ms/epoch - 26ms/step\n",
      "Epoch 3/100\n",
      "6/6 - 0s - loss: 0.7245 - mae: 0.7266 - val_loss: 0.6987 - val_mae: 0.7480 - 158ms/epoch - 26ms/step\n",
      "Epoch 4/100\n",
      "6/6 - 0s - loss: 0.5487 - mae: 0.6068 - val_loss: 0.7058 - val_mae: 0.7217 - 162ms/epoch - 27ms/step\n",
      "Epoch 5/100\n",
      "6/6 - 0s - loss: 0.4924 - mae: 0.5417 - val_loss: 0.6461 - val_mae: 0.6904 - 141ms/epoch - 23ms/step\n",
      "Epoch 6/100\n",
      "6/6 - 0s - loss: 0.4674 - mae: 0.5447 - val_loss: 0.6405 - val_mae: 0.6857 - 138ms/epoch - 23ms/step\n",
      "Epoch 7/100\n",
      "6/6 - 0s - loss: 0.4510 - mae: 0.5352 - val_loss: 0.6464 - val_mae: 0.6832 - 114ms/epoch - 19ms/step\n",
      "Epoch 8/100\n",
      "6/6 - 0s - loss: 0.4491 - mae: 0.5262 - val_loss: 0.6502 - val_mae: 0.6755 - 142ms/epoch - 24ms/step\n",
      "Epoch 9/100\n",
      "6/6 - 0s - loss: 0.4406 - mae: 0.5246 - val_loss: 0.6542 - val_mae: 0.6905 - 113ms/epoch - 19ms/step\n",
      "Epoch 10/100\n",
      "6/6 - 0s - loss: 0.4259 - mae: 0.5171 - val_loss: 0.6421 - val_mae: 0.6870 - 100ms/epoch - 17ms/step\n",
      "Epoch 11/100\n",
      "6/6 - 0s - loss: 0.4228 - mae: 0.5146 - val_loss: 0.6618 - val_mae: 0.6935 - 127ms/epoch - 21ms/step\n",
      "Epoch 12/100\n",
      "6/6 - 0s - loss: 0.4196 - mae: 0.5106 - val_loss: 0.6405 - val_mae: 0.6773 - 114ms/epoch - 19ms/step\n",
      "Epoch 13/100\n",
      "6/6 - 0s - loss: 0.4208 - mae: 0.5091 - val_loss: 0.6485 - val_mae: 0.6726 - 111ms/epoch - 19ms/step\n",
      "Epoch 14/100\n",
      "6/6 - 0s - loss: 0.4106 - mae: 0.5064 - val_loss: 0.6517 - val_mae: 0.6762 - 126ms/epoch - 21ms/step\n",
      "Epoch 15/100\n",
      "6/6 - 0s - loss: 0.4122 - mae: 0.5059 - val_loss: 0.6742 - val_mae: 0.6862 - 129ms/epoch - 21ms/step\n",
      "Epoch 16/100\n",
      "6/6 - 0s - loss: 0.4053 - mae: 0.5016 - val_loss: 0.6480 - val_mae: 0.6764 - 120ms/epoch - 20ms/step\n",
      "Epoch 17/100\n",
      "6/6 - 0s - loss: 0.3891 - mae: 0.4979 - val_loss: 0.7179 - val_mae: 0.7159 - 131ms/epoch - 22ms/step\n",
      "Epoch 18/100\n",
      "6/6 - 0s - loss: 0.4316 - mae: 0.5185 - val_loss: 0.6778 - val_mae: 0.6901 - 128ms/epoch - 21ms/step\n",
      "Epoch 19/100\n",
      "6/6 - 0s - loss: 0.4122 - mae: 0.5022 - val_loss: 0.6826 - val_mae: 0.6980 - 120ms/epoch - 20ms/step\n",
      "Epoch 20/100\n",
      "6/6 - 0s - loss: 0.4117 - mae: 0.5114 - val_loss: 0.6511 - val_mae: 0.6797 - 127ms/epoch - 21ms/step\n",
      "Epoch 21/100\n",
      "6/6 - 0s - loss: 0.3693 - mae: 0.4769 - val_loss: 0.6700 - val_mae: 0.6913 - 100ms/epoch - 17ms/step\n",
      "Epoch 22/100\n",
      "6/6 - 0s - loss: 0.3598 - mae: 0.4715 - val_loss: 0.6713 - val_mae: 0.6839 - 112ms/epoch - 19ms/step\n",
      "Epoch 23/100\n",
      "6/6 - 0s - loss: 0.3640 - mae: 0.4704 - val_loss: 0.6880 - val_mae: 0.6916 - 121ms/epoch - 20ms/step\n",
      "Epoch 24/100\n",
      "6/6 - 0s - loss: 0.3475 - mae: 0.4630 - val_loss: 0.6927 - val_mae: 0.6805 - 134ms/epoch - 22ms/step\n",
      "Epoch 25/100\n",
      "6/6 - 0s - loss: 0.3702 - mae: 0.4743 - val_loss: 0.6933 - val_mae: 0.6880 - 109ms/epoch - 18ms/step\n",
      "Epoch 26/100\n",
      "6/6 - 0s - loss: 0.3490 - mae: 0.4598 - val_loss: 0.6803 - val_mae: 0.6877 - 97ms/epoch - 16ms/step\n",
      "Epoch 27/100\n",
      "6/6 - 0s - loss: 0.3312 - mae: 0.4531 - val_loss: 0.7010 - val_mae: 0.6985 - 114ms/epoch - 19ms/step\n",
      "Epoch 28/100\n",
      "6/6 - 0s - loss: 0.3266 - mae: 0.4464 - val_loss: 0.7244 - val_mae: 0.6969 - 99ms/epoch - 17ms/step\n",
      "Epoch 29/100\n",
      "6/6 - 0s - loss: 0.3177 - mae: 0.4402 - val_loss: 0.7265 - val_mae: 0.6963 - 115ms/epoch - 19ms/step\n",
      "Epoch 30/100\n",
      "6/6 - 0s - loss: 0.3209 - mae: 0.4424 - val_loss: 0.7650 - val_mae: 0.7182 - 118ms/epoch - 20ms/step\n",
      "Epoch 31/100\n",
      "6/6 - 0s - loss: 0.3281 - mae: 0.4472 - val_loss: 0.7233 - val_mae: 0.6976 - 124ms/epoch - 21ms/step\n",
      "Epoch 32/100\n",
      "6/6 - 0s - loss: 0.2974 - mae: 0.4275 - val_loss: 0.7268 - val_mae: 0.6931 - 112ms/epoch - 19ms/step\n",
      "Epoch 33/100\n",
      "6/6 - 0s - loss: 0.2902 - mae: 0.4203 - val_loss: 0.7427 - val_mae: 0.7021 - 120ms/epoch - 20ms/step\n",
      "Epoch 34/100\n",
      "6/6 - 0s - loss: 0.2957 - mae: 0.4241 - val_loss: 0.7848 - val_mae: 0.7148 - 120ms/epoch - 20ms/step\n",
      "Epoch 35/100\n",
      "6/6 - 0s - loss: 0.2828 - mae: 0.4100 - val_loss: 0.7836 - val_mae: 0.7152 - 109ms/epoch - 18ms/step\n",
      "Epoch 36/100\n",
      "6/6 - 0s - loss: 0.2761 - mae: 0.4061 - val_loss: 0.7756 - val_mae: 0.7239 - 110ms/epoch - 18ms/step\n",
      "Epoch 37/100\n",
      "6/6 - 0s - loss: 0.2723 - mae: 0.3981 - val_loss: 0.7923 - val_mae: 0.7251 - 120ms/epoch - 20ms/step\n",
      "Epoch 38/100\n",
      "6/6 - 0s - loss: 0.2584 - mae: 0.4008 - val_loss: 0.8035 - val_mae: 0.7150 - 111ms/epoch - 19ms/step\n",
      "Epoch 39/100\n",
      "6/6 - 0s - loss: 0.2420 - mae: 0.3820 - val_loss: 0.8470 - val_mae: 0.7481 - 117ms/epoch - 19ms/step\n",
      "Epoch 40/100\n",
      "6/6 - 0s - loss: 0.2484 - mae: 0.3814 - val_loss: 0.9121 - val_mae: 0.7705 - 122ms/epoch - 20ms/step\n",
      "Epoch 41/100\n",
      "6/6 - 0s - loss: 0.2710 - mae: 0.4014 - val_loss: 0.8443 - val_mae: 0.7302 - 127ms/epoch - 21ms/step\n",
      "Epoch 42/100\n",
      "6/6 - 0s - loss: 0.2417 - mae: 0.3777 - val_loss: 0.8021 - val_mae: 0.7181 - 119ms/epoch - 20ms/step\n",
      "Epoch 43/100\n",
      "6/6 - 0s - loss: 0.2217 - mae: 0.3705 - val_loss: 0.8297 - val_mae: 0.7296 - 129ms/epoch - 21ms/step\n",
      "Epoch 44/100\n",
      "6/6 - 0s - loss: 0.2091 - mae: 0.3515 - val_loss: 0.8782 - val_mae: 0.7460 - 115ms/epoch - 19ms/step\n",
      "Epoch 45/100\n",
      "6/6 - 0s - loss: 0.2016 - mae: 0.3466 - val_loss: 0.8883 - val_mae: 0.7434 - 112ms/epoch - 19ms/step\n",
      "Epoch 46/100\n",
      "6/6 - 0s - loss: 0.2046 - mae: 0.3526 - val_loss: 0.8670 - val_mae: 0.7376 - 120ms/epoch - 20ms/step\n",
      "Epoch 47/100\n",
      "6/6 - 0s - loss: 0.2007 - mae: 0.3506 - val_loss: 0.9150 - val_mae: 0.7598 - 136ms/epoch - 23ms/step\n",
      "Epoch 48/100\n",
      "6/6 - 0s - loss: 0.1845 - mae: 0.3305 - val_loss: 0.9981 - val_mae: 0.7858 - 126ms/epoch - 21ms/step\n",
      "Epoch 49/100\n",
      "6/6 - 0s - loss: 0.2104 - mae: 0.3588 - val_loss: 0.8998 - val_mae: 0.7548 - 117ms/epoch - 19ms/step\n",
      "Epoch 50/100\n",
      "6/6 - 0s - loss: 0.1750 - mae: 0.3280 - val_loss: 0.9295 - val_mae: 0.7657 - 125ms/epoch - 21ms/step\n",
      "Epoch 51/100\n",
      "6/6 - 0s - loss: 0.1587 - mae: 0.3039 - val_loss: 0.9550 - val_mae: 0.7815 - 126ms/epoch - 21ms/step\n",
      "Epoch 52/100\n",
      "6/6 - 0s - loss: 0.1612 - mae: 0.3083 - val_loss: 0.9841 - val_mae: 0.7861 - 133ms/epoch - 22ms/step\n",
      "Epoch 53/100\n",
      "6/6 - 0s - loss: 0.1635 - mae: 0.3139 - val_loss: 0.9816 - val_mae: 0.7771 - 116ms/epoch - 19ms/step\n",
      "Epoch 54/100\n",
      "6/6 - 0s - loss: 0.1506 - mae: 0.2970 - val_loss: 0.9568 - val_mae: 0.7743 - 109ms/epoch - 18ms/step\n",
      "Epoch 55/100\n",
      "6/6 - 0s - loss: 0.1610 - mae: 0.3020 - val_loss: 0.9506 - val_mae: 0.7654 - 120ms/epoch - 20ms/step\n",
      "Epoch 56/100\n",
      "6/6 - 0s - loss: 0.1369 - mae: 0.2857 - val_loss: 0.9617 - val_mae: 0.7735 - 126ms/epoch - 21ms/step\n",
      "Epoch 57/100\n",
      "6/6 - 0s - loss: 0.1484 - mae: 0.2897 - val_loss: 1.0517 - val_mae: 0.8008 - 117ms/epoch - 20ms/step\n",
      "Epoch 58/100\n",
      "6/6 - 0s - loss: 0.1377 - mae: 0.2855 - val_loss: 1.0557 - val_mae: 0.8073 - 130ms/epoch - 22ms/step\n",
      "Epoch 59/100\n",
      "6/6 - 0s - loss: 0.1364 - mae: 0.2812 - val_loss: 0.9921 - val_mae: 0.7776 - 139ms/epoch - 23ms/step\n",
      "Epoch 60/100\n",
      "6/6 - 0s - loss: 0.1262 - mae: 0.2639 - val_loss: 0.9967 - val_mae: 0.7744 - 128ms/epoch - 21ms/step\n",
      "Epoch 61/100\n",
      "6/6 - 0s - loss: 0.1208 - mae: 0.2670 - val_loss: 1.0310 - val_mae: 0.7980 - 112ms/epoch - 19ms/step\n",
      "Epoch 62/100\n",
      "6/6 - 0s - loss: 0.1264 - mae: 0.2670 - val_loss: 1.0265 - val_mae: 0.7926 - 112ms/epoch - 19ms/step\n",
      "Epoch 63/100\n",
      "6/6 - 0s - loss: 0.1138 - mae: 0.2611 - val_loss: 1.0264 - val_mae: 0.7826 - 118ms/epoch - 20ms/step\n",
      "Epoch 64/100\n",
      "6/6 - 0s - loss: 0.1265 - mae: 0.2802 - val_loss: 1.0276 - val_mae: 0.7937 - 119ms/epoch - 20ms/step\n",
      "Epoch 65/100\n",
      "6/6 - 0s - loss: 0.1353 - mae: 0.2913 - val_loss: 0.9846 - val_mae: 0.7792 - 107ms/epoch - 18ms/step\n",
      "Epoch 66/100\n",
      "6/6 - 0s - loss: 0.1083 - mae: 0.2569 - val_loss: 1.0244 - val_mae: 0.8056 - 110ms/epoch - 18ms/step\n",
      "Epoch 67/100\n",
      "6/6 - 0s - loss: 0.1245 - mae: 0.2672 - val_loss: 0.9979 - val_mae: 0.7673 - 125ms/epoch - 21ms/step\n",
      "Epoch 68/100\n",
      "6/6 - 0s - loss: 0.1231 - mae: 0.2716 - val_loss: 1.0269 - val_mae: 0.7985 - 118ms/epoch - 20ms/step\n",
      "Epoch 69/100\n",
      "6/6 - 0s - loss: 0.1018 - mae: 0.2400 - val_loss: 1.0392 - val_mae: 0.8033 - 123ms/epoch - 20ms/step\n",
      "Epoch 70/100\n",
      "6/6 - 0s - loss: 0.1157 - mae: 0.2488 - val_loss: 1.0006 - val_mae: 0.8024 - 122ms/epoch - 20ms/step\n",
      "Epoch 71/100\n",
      "6/6 - 0s - loss: 0.1188 - mae: 0.2695 - val_loss: 1.0135 - val_mae: 0.7927 - 133ms/epoch - 22ms/step\n",
      "Epoch 72/100\n",
      "6/6 - 0s - loss: 0.0937 - mae: 0.2293 - val_loss: 1.0336 - val_mae: 0.7851 - 125ms/epoch - 21ms/step\n",
      "Epoch 73/100\n"
     ]
    },
    {
     "name": "stdout",
     "output_type": "stream",
     "text": [
      "6/6 - 0s - loss: 0.0961 - mae: 0.2351 - val_loss: 1.0718 - val_mae: 0.8115 - 125ms/epoch - 21ms/step\n",
      "Epoch 74/100\n",
      "6/6 - 0s - loss: 0.1021 - mae: 0.2349 - val_loss: 1.0306 - val_mae: 0.7906 - 108ms/epoch - 18ms/step\n",
      "Epoch 75/100\n",
      "6/6 - 0s - loss: 0.1037 - mae: 0.2542 - val_loss: 1.0398 - val_mae: 0.8022 - 127ms/epoch - 21ms/step\n",
      "Epoch 76/100\n",
      "6/6 - 0s - loss: 0.1159 - mae: 0.2633 - val_loss: 1.0488 - val_mae: 0.8015 - 124ms/epoch - 21ms/step\n",
      "Epoch 77/100\n",
      "6/6 - 0s - loss: 0.1012 - mae: 0.2424 - val_loss: 1.0373 - val_mae: 0.7931 - 112ms/epoch - 19ms/step\n",
      "Epoch 78/100\n",
      "6/6 - 0s - loss: 0.0976 - mae: 0.2291 - val_loss: 1.0240 - val_mae: 0.7843 - 126ms/epoch - 21ms/step\n",
      "Epoch 79/100\n",
      "6/6 - 0s - loss: 0.0983 - mae: 0.2415 - val_loss: 1.0738 - val_mae: 0.8104 - 123ms/epoch - 21ms/step\n",
      "Epoch 80/100\n",
      "6/6 - 0s - loss: 0.0920 - mae: 0.2296 - val_loss: 1.1038 - val_mae: 0.8081 - 132ms/epoch - 22ms/step\n",
      "Epoch 81/100\n",
      "6/6 - 0s - loss: 0.0997 - mae: 0.2422 - val_loss: 1.0700 - val_mae: 0.8100 - 120ms/epoch - 20ms/step\n",
      "Epoch 82/100\n",
      "6/6 - 0s - loss: 0.0821 - mae: 0.2077 - val_loss: 1.0775 - val_mae: 0.7957 - 106ms/epoch - 18ms/step\n",
      "Epoch 83/100\n",
      "6/6 - 0s - loss: 0.0753 - mae: 0.2024 - val_loss: 1.0684 - val_mae: 0.7954 - 126ms/epoch - 21ms/step\n",
      "Epoch 84/100\n",
      "6/6 - 0s - loss: 0.0729 - mae: 0.1927 - val_loss: 1.0778 - val_mae: 0.7953 - 124ms/epoch - 21ms/step\n",
      "Epoch 85/100\n",
      "6/6 - 0s - loss: 0.0676 - mae: 0.1861 - val_loss: 1.0849 - val_mae: 0.8013 - 113ms/epoch - 19ms/step\n",
      "Epoch 86/100\n",
      "6/6 - 0s - loss: 0.0660 - mae: 0.1858 - val_loss: 1.0727 - val_mae: 0.7988 - 119ms/epoch - 20ms/step\n",
      "Epoch 87/100\n",
      "6/6 - 0s - loss: 0.0626 - mae: 0.1815 - val_loss: 1.0931 - val_mae: 0.8081 - 108ms/epoch - 18ms/step\n",
      "Epoch 88/100\n",
      "6/6 - 0s - loss: 0.0655 - mae: 0.1845 - val_loss: 1.0595 - val_mae: 0.7945 - 120ms/epoch - 20ms/step\n",
      "Epoch 89/100\n",
      "6/6 - 0s - loss: 0.0593 - mae: 0.1732 - val_loss: 1.0773 - val_mae: 0.7997 - 123ms/epoch - 20ms/step\n",
      "Epoch 90/100\n",
      "6/6 - 0s - loss: 0.0557 - mae: 0.1626 - val_loss: 1.0610 - val_mae: 0.7898 - 118ms/epoch - 20ms/step\n",
      "Epoch 91/100\n",
      "6/6 - 0s - loss: 0.0525 - mae: 0.1526 - val_loss: 1.0860 - val_mae: 0.8029 - 137ms/epoch - 23ms/step\n",
      "Epoch 92/100\n",
      "6/6 - 0s - loss: 0.0516 - mae: 0.1555 - val_loss: 1.0886 - val_mae: 0.8040 - 137ms/epoch - 23ms/step\n",
      "Epoch 93/100\n",
      "6/6 - 0s - loss: 0.0489 - mae: 0.1486 - val_loss: 1.0560 - val_mae: 0.7962 - 257ms/epoch - 43ms/step\n",
      "Epoch 94/100\n",
      "6/6 - 0s - loss: 0.0509 - mae: 0.1558 - val_loss: 1.0517 - val_mae: 0.7954 - 419ms/epoch - 70ms/step\n",
      "Epoch 95/100\n",
      "6/6 - 0s - loss: 0.0511 - mae: 0.1598 - val_loss: 1.0672 - val_mae: 0.8036 - 107ms/epoch - 18ms/step\n",
      "Epoch 96/100\n",
      "6/6 - 0s - loss: 0.0456 - mae: 0.1430 - val_loss: 1.0795 - val_mae: 0.7998 - 111ms/epoch - 19ms/step\n",
      "Epoch 97/100\n",
      "6/6 - 0s - loss: 0.0498 - mae: 0.1517 - val_loss: 1.0434 - val_mae: 0.7830 - 133ms/epoch - 22ms/step\n",
      "Epoch 98/100\n",
      "6/6 - 0s - loss: 0.0509 - mae: 0.1575 - val_loss: 1.0562 - val_mae: 0.8007 - 126ms/epoch - 21ms/step\n",
      "Epoch 99/100\n",
      "6/6 - 0s - loss: 0.0520 - mae: 0.1650 - val_loss: 1.0739 - val_mae: 0.7992 - 122ms/epoch - 20ms/step\n",
      "Epoch 100/100\n",
      "6/6 - 0s - loss: 0.0496 - mae: 0.1528 - val_loss: 1.1032 - val_mae: 0.8125 - 123ms/epoch - 21ms/step\n"
     ]
    }
   ],
   "source": [
    "# Train the model, with some of the data reserved for validation\n",
    "\n",
    "history = model.fit(train_data, train_target, epochs=100, batch_size=64, validation_split=0.15, verbose=2)"
   ]
  },
  {
   "cell_type": "code",
   "execution_count": 9,
   "id": "572d33a9",
   "metadata": {},
   "outputs": [
    {
     "name": "stdout",
     "output_type": "stream",
     "text": [
      "2/2 - 0s - loss: 0.7956 - mae: 0.6338 - 40ms/epoch - 20ms/step\n"
     ]
    },
    {
     "data": {
      "text/plain": [
       "[0.7955968379974365, 0.6337675452232361]"
      ]
     },
     "execution_count": 9,
     "metadata": {},
     "output_type": "execute_result"
    }
   ],
   "source": [
    "# Evaluate the model on the test set\n",
    "\n",
    "model.evaluate(test_data, test_target, verbose=2)"
   ]
  },
  {
   "cell_type": "code",
   "execution_count": 10,
   "id": "0aff8acb",
   "metadata": {},
   "outputs": [],
   "source": [
    "import matplotlib.pyplot as plt\n",
    "%matplotlib inline"
   ]
  },
  {
   "cell_type": "code",
   "execution_count": 11,
   "id": "afc3381d",
   "metadata": {},
   "outputs": [
    {
     "data": {
      "image/png": "[encoded data removed]",
      "text/plain": [
       "<Figure size 640x480 with 1 Axes>"
      ]
     },
     "metadata": {},
     "output_type": "display_data"
    }
   ],
   "source": [
    "# Plot the training and validation loss\n",
    "\n",
    "plt.plot(history.history['loss'])\n",
    "plt.plot(history.history['val_loss'])\n",
    "plt.title('Loss vs. epochs')\n",
    "plt.ylabel('Loss')\n",
    "plt.xlabel('Epoch')\n",
    "plt.legend(['Training', 'Validation'], loc='upper right')\n",
    "plt.show()"
   ]
  },
  {
   "cell_type": "code",
   "execution_count": null,
   "id": "7594df0f",
   "metadata": {},
   "outputs": [],
   "source": []
  }
 ],
 "metadata": {
  "kernelspec": {
   "display_name": "Python 3 (ipykernel)",
   "language": "python",
   "name": "python3"
  },
  "language_info": {
   "codemirror_mode": {
    "name": "ipython",
    "version": 3
   },
   "file_extension": ".py",
   "mimetype": "text/x-python",
   "name": "python",
   "nbconvert_exporter": "python",
   "pygments_lexer": "ipython3",
   "version": "3.8.10"
  }
 },
 "nbformat": 4,
 "nbformat_minor": 5
}
