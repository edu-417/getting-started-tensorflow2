{
 "cells": [
  {
   "cell_type": "code",
   "execution_count": 1,
   "id": "45988132",
   "metadata": {},
   "outputs": [
    {
     "name": "stdout",
     "output_type": "stream",
     "text": [
      "Fri Aug  4 05:41:58 2023       \n",
      "+-----------------------------------------------------------------------------+\n",
      "| NVIDIA-SMI 525.111      Driver Version: 528.87       CUDA Version: 12.0     |\n",
      "|-------------------------------+----------------------+----------------------+\n",
      "| GPU  Name        Persistence-M| Bus-Id        Disp.A | Volatile Uncorr. ECC |\n",
      "| Fan  Temp  Perf  Pwr:Usage/Cap|         Memory-Usage | GPU-Util  Compute M. |\n",
      "|                               |                      |               MIG M. |\n",
      "|===============================+======================+======================|\n",
      "|   0  NVIDIA GeForce ...  On   | 00000000:01:00.0 Off |                  N/A |\n",
      "| N/A   45C    P8     2W /  80W |      0MiB /  8188MiB |      0%      Default |\n",
      "|                               |                      |                  N/A |\n",
      "+-------------------------------+----------------------+----------------------+\n",
      "                                                                               \n",
      "+-----------------------------------------------------------------------------+\n",
      "| Processes:                                                                  |\n",
      "|  GPU   GI   CI        PID   Type   Process name                  GPU Memory |\n",
      "|        ID   ID                                                   Usage      |\n",
      "|=============================================================================|\n",
      "|    0   N/A  N/A        26      G   /Xwayland                       N/A      |\n",
      "|    0   N/A  N/A        29      G   /Xwayland                       N/A      |\n",
      "|    0   N/A  N/A        31      G   /Xwayland                       N/A      |\n",
      "+-----------------------------------------------------------------------------+\n"
     ]
    }
   ],
   "source": [
    "!nvidia-smi"
   ]
  },
  {
   "cell_type": "code",
   "execution_count": 2,
   "id": "36fd61a9",
   "metadata": {},
   "outputs": [
    {
     "name": "stderr",
     "output_type": "stream",
     "text": [
      "2023-08-04 05:42:00.306044: I tensorflow/core/util/port.cc:110] oneDNN custom operations are on. You may see slightly different numerical results due to floating-point round-off errors from different computation orders. To turn them off, set the environment variable `TF_ENABLE_ONEDNN_OPTS=0`.\n",
      "2023-08-04 05:42:00.342817: I tensorflow/core/platform/cpu_feature_guard.cc:182] This TensorFlow binary is optimized to use available CPU instructions in performance-critical operations.\n",
      "To enable the following instructions: AVX2 AVX_VNNI FMA, in other operations, rebuild TensorFlow with the appropriate compiler flags.\n"
     ]
    },
    {
     "name": "stdout",
     "output_type": "stream",
     "text": [
      "2.13.0\n"
     ]
    }
   ],
   "source": [
    "import tensorflow as tf\n",
    "print(tf.__version__)"
   ]
  },
  {
   "cell_type": "markdown",
   "id": "1e9bd9f5",
   "metadata": {},
   "source": [
    "## Building a Sequential model"
   ]
  },
  {
   "cell_type": "code",
   "execution_count": 3,
   "id": "89968ad4",
   "metadata": {},
   "outputs": [],
   "source": [
    "from tensorflow.keras.models import Sequential\n",
    "from tensorflow.keras.layers import Dense, Flatten, Softmax"
   ]
  },
  {
   "cell_type": "markdown",
   "id": "68873dae",
   "metadata": {},
   "source": [
    "#### Build a feedforward neural network model"
   ]
  },
  {
   "cell_type": "code",
   "execution_count": 4,
   "id": "cb22e50f",
   "metadata": {},
   "outputs": [
    {
     "name": "stderr",
     "output_type": "stream",
     "text": [
      "2023-08-04 05:42:04.788568: I tensorflow/compiler/xla/stream_executor/cuda/cuda_gpu_executor.cc:981] could not open file to read NUMA node: /sys/bus/pci/devices/0000:01:00.0/numa_node\n",
      "Your kernel may have been built without NUMA support.\n",
      "2023-08-04 05:42:04.799382: I tensorflow/compiler/xla/stream_executor/cuda/cuda_gpu_executor.cc:981] could not open file to read NUMA node: /sys/bus/pci/devices/0000:01:00.0/numa_node\n",
      "Your kernel may have been built without NUMA support.\n",
      "2023-08-04 05:42:04.799965: I tensorflow/compiler/xla/stream_executor/cuda/cuda_gpu_executor.cc:981] could not open file to read NUMA node: /sys/bus/pci/devices/0000:01:00.0/numa_node\n",
      "Your kernel may have been built without NUMA support.\n",
      "2023-08-04 05:42:04.802463: I tensorflow/compiler/xla/stream_executor/cuda/cuda_gpu_executor.cc:981] could not open file to read NUMA node: /sys/bus/pci/devices/0000:01:00.0/numa_node\n",
      "Your kernel may have been built without NUMA support.\n",
      "2023-08-04 05:42:04.802875: I tensorflow/compiler/xla/stream_executor/cuda/cuda_gpu_executor.cc:981] could not open file to read NUMA node: /sys/bus/pci/devices/0000:01:00.0/numa_node\n",
      "Your kernel may have been built without NUMA support.\n",
      "2023-08-04 05:42:04.803301: I tensorflow/compiler/xla/stream_executor/cuda/cuda_gpu_executor.cc:981] could not open file to read NUMA node: /sys/bus/pci/devices/0000:01:00.0/numa_node\n",
      "Your kernel may have been built without NUMA support.\n",
      "2023-08-04 05:42:05.556913: I tensorflow/compiler/xla/stream_executor/cuda/cuda_gpu_executor.cc:981] could not open file to read NUMA node: /sys/bus/pci/devices/0000:01:00.0/numa_node\n",
      "Your kernel may have been built without NUMA support.\n",
      "2023-08-04 05:42:05.557609: I tensorflow/compiler/xla/stream_executor/cuda/cuda_gpu_executor.cc:981] could not open file to read NUMA node: /sys/bus/pci/devices/0000:01:00.0/numa_node\n",
      "Your kernel may have been built without NUMA support.\n",
      "2023-08-04 05:42:05.557626: I tensorflow/core/common_runtime/gpu/gpu_device.cc:1726] Could not identify NUMA node of platform GPU id 0, defaulting to 0.  Your kernel may not have been built with NUMA support.\n",
      "2023-08-04 05:42:05.558032: I tensorflow/compiler/xla/stream_executor/cuda/cuda_gpu_executor.cc:981] could not open file to read NUMA node: /sys/bus/pci/devices/0000:01:00.0/numa_node\n",
      "Your kernel may have been built without NUMA support.\n",
      "2023-08-04 05:42:05.558212: I tensorflow/core/common_runtime/gpu/gpu_device.cc:1639] Created device /job:localhost/replica:0/task:0/device:GPU:0 with 5391 MB memory:  -> device: 0, name: NVIDIA GeForce RTX 4060 Laptop GPU, pci bus id: 0000:01:00.0, compute capability: 8.9\n"
     ]
    }
   ],
   "source": [
    "# Build the Sequential feedforward neural network model\n",
    "\n",
    "model = Sequential([\n",
    "    Flatten(input_shape=(28, 28)),\n",
    "    Dense(units=16, activation=\"relu\", name=\"layer_1\"),\n",
    "    Dense(units=16, activation=\"relu\"),\n",
    "    #Dense(units=10, activation='softmax')\n",
    "    Dense(units=10),\n",
    "    Softmax()\n",
    "])"
   ]
  },
  {
   "cell_type": "code",
   "execution_count": 5,
   "id": "8ce00f60",
   "metadata": {},
   "outputs": [
    {
     "data": {
      "text/plain": [
       "[<tf.Variable 'layer_1/kernel:0' shape=(784, 16) dtype=float32, numpy=\n",
       " array([[-0.07544012,  0.00313295,  0.00413145, ...,  0.081635  ,\n",
       "          0.03390174, -0.06295945],\n",
       "        [-0.05530016, -0.07746851,  0.02637164, ..., -0.07947098,\n",
       "          0.06131013,  0.03346694],\n",
       "        [-0.05163842, -0.02416886,  0.04737103, ...,  0.01301099,\n",
       "          0.05895852, -0.02797404],\n",
       "        ...,\n",
       "        [-0.05729844,  0.03000309, -0.04986753, ...,  0.03775839,\n",
       "          0.08522186,  0.033446  ],\n",
       "        [-0.08046816,  0.01555821, -0.02172238, ...,  0.00586177,\n",
       "         -0.07469115,  0.05969581],\n",
       "        [ 0.02767953, -0.0033672 , -0.02212078, ..., -0.03538863,\n",
       "         -0.03720856,  0.00249719]], dtype=float32)>,\n",
       " <tf.Variable 'layer_1/bias:0' shape=(16,) dtype=float32, numpy=\n",
       " array([0., 0., 0., 0., 0., 0., 0., 0., 0., 0., 0., 0., 0., 0., 0., 0.],\n",
       "       dtype=float32)>,\n",
       " <tf.Variable 'dense/kernel:0' shape=(16, 16) dtype=float32, numpy=\n",
       " array([[-0.33190638, -0.28455132, -0.35656103,  0.02548561, -0.224615  ,\n",
       "         -0.04203501, -0.25382182,  0.4108881 ,  0.12161282, -0.17938188,\n",
       "         -0.42434946, -0.29083955, -0.13658258,  0.05469346,  0.36451897,\n",
       "         -0.00430453],\n",
       "        [ 0.28531042, -0.07869461, -0.34833604, -0.23114926,  0.28110173,\n",
       "         -0.43030113, -0.00633892,  0.33951405,  0.2895265 , -0.1462942 ,\n",
       "         -0.41215196,  0.06816503, -0.11265031,  0.36974642, -0.4145734 ,\n",
       "          0.20199403],\n",
       "        [-0.38608634,  0.39641586, -0.33438545, -0.01015049,  0.27339783,\n",
       "          0.17119607, -0.00290874,  0.3588237 ,  0.29634276,  0.07595882,\n",
       "          0.36213818, -0.15620744,  0.06566936,  0.07986483, -0.40930742,\n",
       "          0.34065762],\n",
       "        [ 0.17762288,  0.00442231,  0.14421394, -0.28442308, -0.3631273 ,\n",
       "          0.2540671 ,  0.38566837, -0.35844392,  0.05289122, -0.33005625,\n",
       "         -0.14815032,  0.02842522,  0.00305834, -0.03438288,  0.37460902,\n",
       "          0.07126561],\n",
       "        [-0.01926932,  0.2270861 ,  0.10277382,  0.24095306,  0.15064529,\n",
       "          0.23961022, -0.18614335,  0.06876442, -0.31105143, -0.43153444,\n",
       "          0.05174136,  0.3929743 ,  0.4062946 , -0.08768874, -0.00646353,\n",
       "         -0.37606418],\n",
       "        [ 0.16164377, -0.3299167 ,  0.01173738, -0.19479255, -0.15461057,\n",
       "          0.17495307, -0.26181626,  0.38780847,  0.42334083,  0.32431898,\n",
       "          0.31689635, -0.06562269,  0.07110909,  0.09390607,  0.07554969,\n",
       "         -0.21527554],\n",
       "        [-0.33615774,  0.25352636, -0.02214307,  0.26198748,  0.17568323,\n",
       "         -0.16483209,  0.17950836,  0.2729719 , -0.16432208,  0.29035178,\n",
       "          0.30573103,  0.10117456,  0.26037303, -0.03633842,  0.30097392,\n",
       "         -0.23956224],\n",
       "        [-0.13549519, -0.20029588,  0.40438566,  0.42666987,  0.08470234,\n",
       "         -0.09500089, -0.03964669, -0.22873214, -0.36178964, -0.31494507,\n",
       "         -0.16728687, -0.34266332,  0.38925084, -0.19058198,  0.20898297,\n",
       "          0.1879783 ],\n",
       "        [ 0.08038852, -0.09802896,  0.30183265,  0.27829137,  0.2796155 ,\n",
       "          0.06599528,  0.0635128 , -0.1627442 ,  0.34848985, -0.07902053,\n",
       "         -0.03944805, -0.26941866,  0.25341126,  0.15086219, -0.24768874,\n",
       "         -0.1953904 ],\n",
       "        [ 0.37062207, -0.01808053, -0.3638797 ,  0.00473854,  0.01416677,\n",
       "          0.10155478,  0.1466358 , -0.40568665,  0.27848265,  0.36061904,\n",
       "          0.39295182, -0.2155292 , -0.06527808,  0.12257573, -0.02404121,\n",
       "          0.3120394 ],\n",
       "        [-0.29233742,  0.42593738, -0.02499428, -0.28294057,  0.3338605 ,\n",
       "          0.10558042,  0.07743302,  0.21770939, -0.23805888,  0.3649082 ,\n",
       "          0.18813804, -0.35244235, -0.38130313, -0.23151699,  0.03238687,\n",
       "          0.24554023],\n",
       "        [-0.2243698 ,  0.07945827, -0.31556904,  0.25344285,  0.3740342 ,\n",
       "         -0.09786844,  0.15454623, -0.29748935, -0.07473469,  0.41674605,\n",
       "          0.36550435,  0.16254112,  0.360669  ,  0.25711396,  0.35928747,\n",
       "          0.28620067],\n",
       "        [-0.25401878,  0.07599154, -0.28927281, -0.42959273,  0.31512335,\n",
       "         -0.19370916, -0.4033069 , -0.26572126,  0.37957266, -0.3601243 ,\n",
       "          0.3029959 , -0.3777801 ,  0.03771481, -0.38095832, -0.07811978,\n",
       "         -0.42201987],\n",
       "        [ 0.32453117,  0.21533915, -0.30937475, -0.34238827,  0.41464022,\n",
       "          0.16052291,  0.15415278,  0.19267431,  0.16452709,  0.16994545,\n",
       "         -0.3932585 , -0.02581823, -0.2768807 , -0.22498325,  0.13843724,\n",
       "         -0.18415333],\n",
       "        [ 0.33325604, -0.42093816, -0.37266693, -0.22798902,  0.04607484,\n",
       "          0.26838335, -0.23700544, -0.41623163, -0.16773978, -0.3037939 ,\n",
       "          0.18410596,  0.19604614,  0.39318886,  0.2975879 , -0.24951111,\n",
       "          0.17693272],\n",
       "        [ 0.21696308,  0.09223393,  0.15167126,  0.06168488,  0.12807515,\n",
       "          0.22959933, -0.14887878,  0.11160251,  0.4060767 ,  0.25133976,\n",
       "         -0.3810662 , -0.25018185, -0.36404365, -0.26884156,  0.4308096 ,\n",
       "          0.33305296]], dtype=float32)>,\n",
       " <tf.Variable 'dense/bias:0' shape=(16,) dtype=float32, numpy=\n",
       " array([0., 0., 0., 0., 0., 0., 0., 0., 0., 0., 0., 0., 0., 0., 0., 0.],\n",
       "       dtype=float32)>,\n",
       " <tf.Variable 'dense_1/kernel:0' shape=(16, 10) dtype=float32, numpy=\n",
       " array([[ 0.38231754, -0.30303374, -0.15754575, -0.25176117,  0.07977849,\n",
       "          0.47878247,  0.04526681,  0.39921904,  0.22988921, -0.24749002],\n",
       "        [-0.22493845,  0.12336409,  0.11881804, -0.01628837,  0.07024467,\n",
       "          0.3837576 , -0.46008688,  0.382047  , -0.1685813 ,  0.00736937],\n",
       "        [-0.42919666, -0.32336923, -0.40936762, -0.05440229, -0.2807505 ,\n",
       "         -0.34071392, -0.45490783, -0.28671435,  0.13894427,  0.40615982],\n",
       "        [-0.33967876, -0.1601808 , -0.36253846, -0.38777503, -0.09136471,\n",
       "         -0.09656861, -0.15253726,  0.4507478 , -0.24181527,  0.4113741 ],\n",
       "        [ 0.4009742 , -0.4612644 , -0.13619998, -0.10712016, -0.21359926,\n",
       "          0.1198408 ,  0.27661747, -0.0673967 ,  0.39294952, -0.3335421 ],\n",
       "        [ 0.19891733, -0.21532297, -0.31610215,  0.08528864,  0.1818049 ,\n",
       "         -0.1950435 ,  0.19669056, -0.22505963,  0.13339448,  0.37877023],\n",
       "        [-0.05583039,  0.14481431,  0.43215996,  0.35752237, -0.3305558 ,\n",
       "         -0.30360183,  0.08349657, -0.12502697,  0.29909462, -0.29367128],\n",
       "        [-0.25839525, -0.01009008, -0.14735854, -0.46257132, -0.11548561,\n",
       "         -0.3965945 , -0.38338178, -0.4314661 ,  0.47467172, -0.20044461],\n",
       "        [ 0.3372832 , -0.00538728,  0.43044782,  0.44224763,  0.36146325,\n",
       "         -0.32783005,  0.47499317, -0.3010931 ,  0.06290233, -0.43782163],\n",
       "        [ 0.36906064, -0.41540658,  0.007011  ,  0.11328417,  0.05342913,\n",
       "          0.2301988 , -0.06964737,  0.46633863, -0.18677434, -0.23515601],\n",
       "        [-0.35880262, -0.14612526,  0.07534319, -0.3809002 , -0.05605578,\n",
       "          0.30458587, -0.08368015, -0.27094585,  0.47792548, -0.08355483],\n",
       "        [-0.09395486, -0.3013541 ,  0.06324697,  0.44884962,  0.13398951,\n",
       "          0.28977233, -0.34888536,  0.36462903, -0.13324857, -0.35414255],\n",
       "        [-0.13503128,  0.27692682,  0.15458381,  0.22683132,  0.38632894,\n",
       "          0.22422433,  0.21561515, -0.09239858, -0.05748424,  0.43947583],\n",
       "        [ 0.11442375,  0.3500514 , -0.3567376 ,  0.12206423,  0.09269649,\n",
       "         -0.35547695,  0.32649094,  0.04082435,  0.38121897, -0.3457688 ],\n",
       "        [-0.07741991,  0.13594103,  0.16526431,  0.3568465 , -0.1091224 ,\n",
       "          0.4170649 ,  0.12945962, -0.26125455,  0.0759657 , -0.22395769],\n",
       "        [-0.05526209, -0.0525212 ,  0.28511465,  0.22595388,  0.23958534,\n",
       "          0.03284657, -0.14607176, -0.29184207, -0.34937397, -0.11853275]],\n",
       "       dtype=float32)>,\n",
       " <tf.Variable 'dense_1/bias:0' shape=(10,) dtype=float32, numpy=array([0., 0., 0., 0., 0., 0., 0., 0., 0., 0.], dtype=float32)>]"
      ]
     },
     "execution_count": 5,
     "metadata": {},
     "output_type": "execute_result"
    }
   ],
   "source": [
    "model.weights"
   ]
  },
  {
   "cell_type": "code",
   "execution_count": 6,
   "id": "29363dd0",
   "metadata": {},
   "outputs": [
    {
     "name": "stdout",
     "output_type": "stream",
     "text": [
      "Model: \"sequential\"\n",
      "_________________________________________________________________\n",
      " Layer (type)                Output Shape              Param #   \n",
      "=================================================================\n",
      " flatten (Flatten)           (None, 784)               0         \n",
      "                                                                 \n",
      " layer_1 (Dense)             (None, 16)                12560     \n",
      "                                                                 \n",
      " dense (Dense)               (None, 16)                272       \n",
      "                                                                 \n",
      " dense_1 (Dense)             (None, 10)                170       \n",
      "                                                                 \n",
      " softmax (Softmax)           (None, 10)                0         \n",
      "                                                                 \n",
      "=================================================================\n",
      "Total params: 13002 (50.79 KB)\n",
      "Trainable params: 13002 (50.79 KB)\n",
      "Non-trainable params: 0 (0.00 Byte)\n",
      "_________________________________________________________________\n"
     ]
    }
   ],
   "source": [
    "# Print the model summary\n",
    "\n",
    "model.summary()"
   ]
  },
  {
   "cell_type": "code",
   "execution_count": null,
   "id": "fd3ea9e5",
   "metadata": {},
   "outputs": [],
   "source": []
  }
 ],
 "metadata": {
  "kernelspec": {
   "display_name": "Python 3 (ipykernel)",
   "language": "python",
   "name": "python3"
  },
  "language_info": {
   "codemirror_mode": {
    "name": "ipython",
    "version": 3
   },
   "file_extension": ".py",
   "mimetype": "text/x-python",
   "name": "python",
   "nbconvert_exporter": "python",
   "pygments_lexer": "ipython3",
   "version": "3.8.10"
  }
 },
 "nbformat": 4,
 "nbformat_minor": 5
}
